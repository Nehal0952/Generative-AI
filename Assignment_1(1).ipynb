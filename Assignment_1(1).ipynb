{
  "nbformat": 4,
  "nbformat_minor": 0,
  "metadata": {
    "colab": {
      "provenance": [],
      "authorship_tag": "ABX9TyOJCHHqovxKxrya3PRh4rs4",
      "include_colab_link": true
    },
    "kernelspec": {
      "name": "python3",
      "display_name": "Python 3"
    },
    "language_info": {
      "name": "python"
    }
  },
  "cells": [
    {
      "cell_type": "markdown",
      "metadata": {
        "id": "view-in-github",
        "colab_type": "text"
      },
      "source": [
        "<a href=\"https://colab.research.google.com/github/Nehal0952/Generative-AI/blob/main/Assignment_1(1).ipynb\" target=\"_parent\"><img src=\"https://colab.research.google.com/assets/colab-badge.svg\" alt=\"Open In Colab\"/></a>"
      ]
    },
    {
      "cell_type": "code",
      "source": [
        "import numpy as np\n",
        "from sklearn.metrics import mean_absolute_error, mean_squared_error\n",
        "\n",
        "# Define the actual and predicted values from Table 1\n",
        "Y_actual = [20, 30, 40, 50, 60]\n",
        "Y_pred = [20.5, 30.3, 40.2, 50.6, 60.7]\n",
        "\n",
        "# Calculate error metrics from scratch\n",
        "def calculate_metrics(Y_actual, Y_pred):\n",
        "    n = len(Y_actual)\n",
        "\n",
        "    # Mean Absolute Error (MAE)\n",
        "    mae = sum(abs(y_true - y_pred) for y_true, y_pred in zip(Y_actual, Y_pred)) / n\n",
        "\n",
        "    # Mean Squared Error (MSE)\n",
        "    mse = sum((y_true - y_pred) ** 2 for y_true, y_pred in zip(Y_actual, Y_pred)) / n\n",
        "\n",
        "    # Root Mean Squared Error (RMSE)\n",
        "    rmse = mse ** 0.5\n",
        "    mbe = sum(y_pred - y_true for y_true, y_pred in zip(Y_actual, Y_pred)) / n\n",
        "    correlation = np.corrcoef(Y_actual, Y_pred)[0, 1] # Correlation coefficient\n",
        "    correlation_error = 1 - correlation # Correlation error is 1 minus correlation coefficient\n",
        "\n",
        "    return mae, mse, rmse, mbe, correlation_error\n",
        "\n",
        "\n",
        "\n",
        "\n",
        "mae_scratch, mse_scratch, rmse_scratch,mbe_scratch,correlation_error_scratch= calculate_metrics(Y_actual, Y_pred)\n",
        "\n",
        "# Calculate error metrics using libraries\n",
        "mae_lib = mean_absolute_error(Y_actual, Y_pred)\n",
        "mse_lib = mean_squared_error(Y_actual, Y_pred)\n",
        "rmse_lib = np.sqrt(mse_lib)\n",
        "\n",
        "# Display the results\n",
        "print(\"Error Metrics (From Scratch):\")\n",
        "print(f\"MAE: {mae_scratch}\")\n",
        "print(f\"MSE: {mse_scratch}\")\n",
        "print(f\"RMSE: {rmse_scratch}\")\n",
        "print(f\"MBE: {mbe_scratch}\")\n",
        "print(f\"Correlation Error: {correlation_error_scratch}\")\n",
        "\n",
        "\n",
        "print(\"\\nError Metrics (Using Libraries):\")\n",
        "print(f\"MAE: {mae_lib}\")\n",
        "print(f\"MSE: {mse_lib}\")\n",
        "print(f\"RMSE: {rmse_lib}\")"
      ],
      "metadata": {
        "colab": {
          "base_uri": "https://localhost:8080/"
        },
        "id": "CAWxYXVhPAPU",
        "outputId": "22eeb5fd-0b59-4f82-d523-f37af3b4b187"
      },
      "execution_count": 19,
      "outputs": [
        {
          "output_type": "stream",
          "name": "stdout",
          "text": [
            "Error Metrics (From Scratch):\n",
            "MAE: 0.4600000000000016\n",
            "MSE: 0.24600000000000147\n",
            "RMSE: 0.49598387070549127\n",
            "MBE: 0.4600000000000016\n",
            "Correlation Error: 6.064244014969411e-05\n",
            "\n",
            "Error Metrics (Using Libraries):\n",
            "MAE: 0.4600000000000016\n",
            "MSE: 0.24600000000000147\n",
            "RMSE: 0.49598387070549127\n"
          ]
        }
      ]
    }
  ]
}